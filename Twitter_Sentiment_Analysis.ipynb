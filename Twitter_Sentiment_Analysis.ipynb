{
  "cells": [
    {
      "cell_type": "markdown",
      "metadata": {
        "id": "view-in-github",
        "colab_type": "text"
      },
      "source": [
        "<a href=\"https://colab.research.google.com/github/AagamanVarma/twitter-sentiment-analysis/blob/main/Twitter_Sentiment_Analysis.ipynb\" target=\"_parent\"><img src=\"https://colab.research.google.com/assets/colab-badge.svg\" alt=\"Open In Colab\"/></a>"
      ]
    },
    {
      "cell_type": "code",
      "execution_count": 39,
      "metadata": {
        "id": "Ylwn8vyt1WrN"
      },
      "outputs": [],
      "source": [
        "# 1. Make kaggle directory\n",
        "!mkdir -p ~/.kaggle\n",
        "\n",
        "# 2. Copy kaggle.json into this directory (after uploading in Colab file system)\n",
        "!cp kaggle.json ~/.kaggle/\n",
        "\n",
        "# 3. Give proper permissions\n",
        "!chmod 600 ~/.kaggle/kaggle.json\n"
      ]
    },
    {
      "cell_type": "code",
      "execution_count": null,
      "metadata": {
        "id": "MyY4Rx2g1dyv"
      },
      "outputs": [],
      "source": [
        "!kaggle datasets download -d kazanova/sentiment140\n"
      ]
    },
    {
      "cell_type": "code",
      "execution_count": null,
      "metadata": {
        "id": "ckr4BycL34nQ"
      },
      "outputs": [],
      "source": [
        "# extracting the compressed dataset\n",
        "from zipfile import ZipFile\n",
        "dataset = '/content/sentiment140.zip'\n",
        "\n",
        "with ZipFile(dataset, 'r') as zip:\n",
        "  zip. extractall()\n",
        "  print('The dataset is extracted')"
      ]
    },
    {
      "cell_type": "code",
      "execution_count": 5,
      "metadata": {
        "id": "3zjbBM104HrA"
      },
      "outputs": [],
      "source": [
        "import numpy as np\n",
        "import pandas as pd\n",
        "import re\n",
        "from nltk.corpus import stopwords\n",
        "from nltk.stem.porter import PorterStemmer\n",
        "from sklearn.feature_extraction.text import TfidfVectorizer\n",
        "from sklearn.model_selection import train_test_split\n",
        "from sklearn.linear_model import LogisticRegression\n",
        "from sklearn.metrics import accuracy_score"
      ]
    },
    {
      "cell_type": "code",
      "execution_count": null,
      "metadata": {
        "id": "_XyBMCik4w9a"
      },
      "outputs": [],
      "source": [
        "import nltk\n",
        "nltk.download('stopwords')\n",
        "print(stopwords.words('english'))"
      ]
    },
    {
      "cell_type": "code",
      "execution_count": null,
      "metadata": {
        "id": "KDxTtRe95NHD"
      },
      "outputs": [],
      "source": [
        "# Loading the data from csv file to pandas dataframe\n",
        "col_names = ['target', 'ids', 'date', 'flag', 'user', 'text']\n",
        "twitter_data = pd.read_csv(\n",
        "    '/content/training.1600000.processed.noemoticon.csv',\n",
        "    encoding='ISO-8859-1',\n",
        "    names=col_names\n",
        ")\n",
        "\n",
        "# Checking first few rows\n",
        "print(twitter_data.head())\n"
      ]
    },
    {
      "cell_type": "code",
      "execution_count": 8,
      "metadata": {
        "id": "imaluLdw5bQO"
      },
      "outputs": [],
      "source": [
        "twitter_data['target'] = twitter_data['target'].replace(4, 1)\n"
      ]
    },
    {
      "cell_type": "code",
      "execution_count": null,
      "metadata": {
        "id": "q4hparz65jMB"
      },
      "outputs": [],
      "source": [
        "twitter_data.isnull().sum()"
      ]
    },
    {
      "cell_type": "code",
      "execution_count": 10,
      "metadata": {
        "id": "Dn-3UnM75s8I"
      },
      "outputs": [],
      "source": [
        "ps = PorterStemmer()"
      ]
    },
    {
      "cell_type": "code",
      "execution_count": 11,
      "metadata": {
        "id": "N_mAQzOW59wN"
      },
      "outputs": [],
      "source": [
        "def stemming(content):\n",
        "    # keep only letters\n",
        "    stemmed_content = re.sub('[^a-zA-Z]', ' ', content)\n",
        "    # lowercase\n",
        "    stemmed_content = stemmed_content.lower()\n",
        "    # tokenize\n",
        "    stemmed_content = stemmed_content.split()\n",
        "    # remove stopwords + stemming\n",
        "    stemmed_content = [ps.stem(word) for word in stemmed_content if word not in stopwords.words('english')]\n",
        "    # join back into a string\n",
        "    stemmed_content = ' '.join(stemmed_content)\n",
        "\n",
        "    return stemmed_content"
      ]
    },
    {
      "cell_type": "code",
      "execution_count": 12,
      "metadata": {
        "id": "hmY65z1C5_oj"
      },
      "outputs": [],
      "source": [
        "# Apply stemming to all tweets\n",
        "twitter_data['stemmed_content'] = twitter_data['text'].apply(stemming)\n"
      ]
    },
    {
      "cell_type": "code",
      "source": [
        "twitter_data.head()"
      ],
      "metadata": {
        "id": "Mgtca91zV5bj"
      },
      "execution_count": null,
      "outputs": []
    },
    {
      "cell_type": "code",
      "source": [
        "# Separating the data and label\n",
        "X = twitter_data['stemmed_content'].values\n",
        "y = twitter_data['target'].values\n"
      ],
      "metadata": {
        "id": "lJKc3x7sV7Om"
      },
      "execution_count": 14,
      "outputs": []
    },
    {
      "cell_type": "code",
      "source": [
        "X_train, X_test, y_train, y_test = train_test_split(X, y, test_size=0.2, stratify=y, random_state=2)"
      ],
      "metadata": {
        "id": "fZSqrLFqWQz0"
      },
      "execution_count": 27,
      "outputs": []
    },
    {
      "cell_type": "code",
      "source": [
        "print(X.shape, X_train.shape, X_test.shape)"
      ],
      "metadata": {
        "id": "2ZcQZ0ClX-it"
      },
      "execution_count": null,
      "outputs": []
    },
    {
      "cell_type": "code",
      "source": [
        "print(X_train)"
      ],
      "metadata": {
        "id": "qfxBvjzTYFPn"
      },
      "execution_count": null,
      "outputs": []
    },
    {
      "cell_type": "code",
      "source": [
        "print(X_test)"
      ],
      "metadata": {
        "id": "PhbiakAFYHod"
      },
      "execution_count": null,
      "outputs": []
    },
    {
      "cell_type": "code",
      "source": [
        "vectorizer = TfidfVectorizer()\n",
        "X_train = vectorizer.fit_transform(X_train)\n",
        "X_test = vectorizer.transform(X_test)"
      ],
      "metadata": {
        "id": "Nsn_HkHzYLm5"
      },
      "execution_count": 31,
      "outputs": []
    },
    {
      "cell_type": "code",
      "source": [
        "#Training the model\n",
        "model = LogisticRegression(max_iter=1000)\n",
        "model.fit(X_train, y_train)"
      ],
      "metadata": {
        "id": "mD_qRC6OWvSq"
      },
      "execution_count": null,
      "outputs": []
    },
    {
      "cell_type": "code",
      "source": [
        "# Accuracy score on the training data\n",
        "X_train_prediction = model.predict(X_train)\n",
        "training_data_accuracy = accuracy_score(y_train, X_train_prediction)\n",
        "print('Accuracy score on the training data :', training_data_accuracy)"
      ],
      "metadata": {
        "id": "miL8VaBaW67x"
      },
      "execution_count": null,
      "outputs": []
    },
    {
      "cell_type": "code",
      "source": [
        "# Accuracy score on the test data\n",
        "X_test_prediction = model.predict(X_test)\n",
        "test_data_accuracy = accuracy_score(y_test, X_test_prediction)\n",
        "print('Accuracy score on the test data :', test_data_accuracy)"
      ],
      "metadata": {
        "id": "LBoA2rB1XHS6"
      },
      "execution_count": null,
      "outputs": []
    },
    {
      "cell_type": "code",
      "source": [
        "import pickle"
      ],
      "metadata": {
        "id": "iJQD5tCPXJwn"
      },
      "execution_count": 35,
      "outputs": []
    },
    {
      "cell_type": "code",
      "source": [
        "filename = 'trained_model_for_twitter_sentiment_analysis.pkl'\n",
        "pickle.dump(model,open(filename,'wb'))"
      ],
      "metadata": {
        "id": "o9jF5R6RYn-v"
      },
      "execution_count": 36,
      "outputs": []
    },
    {
      "cell_type": "code",
      "source": [
        "# Load the saved model\n",
        "loaded_model = pickle.load(open('/content/trained_model_for_twitter_sentiment_analysis.pkl', 'rb'))\n"
      ],
      "metadata": {
        "id": "3qSRX_rjY1Yl"
      },
      "execution_count": 37,
      "outputs": []
    },
    {
      "cell_type": "code",
      "source": [
        "# Pick one test example\n",
        "X_new = X_test[200]\n",
        "y_true = y_test[200]\n",
        "print(\"True label:\", y_true)\n",
        "\n",
        "# Make prediction (reshape required)\n",
        "prediction = loaded_model.predict(X_new)\n",
        "\n",
        "print(\"Predicted label:\", prediction[0])\n",
        "\n",
        "if prediction[0] == 0:\n",
        "    print(\"Negative Tweet\")\n",
        "else:\n",
        "    print(\"Positive Tweet\")"
      ],
      "metadata": {
        "id": "m8G3oZf0ZSkU"
      },
      "execution_count": null,
      "outputs": []
    }
  ],
  "metadata": {
    "colab": {
      "provenance": [],
      "authorship_tag": "ABX9TyP7uvF1s2//MxZ7V/xv/a27",
      "include_colab_link": true
    },
    "kernelspec": {
      "display_name": "Python 3",
      "name": "python3"
    },
    "language_info": {
      "name": "python"
    }
  },
  "nbformat": 4,
  "nbformat_minor": 0
}